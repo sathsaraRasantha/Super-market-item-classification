{
 "cells": [
  {
   "cell_type": "code",
   "execution_count": 1,
   "id": "af19fba3",
   "metadata": {},
   "outputs": [],
   "source": [
    "import json\n",
    "from pathlib import Path\n",
    "from torchvision.datasets import ImageFolder\n",
    "from transformers import ViTFeatureExtractor, ViTForImageClassification\n",
    "from PIL import Image, UnidentifiedImageError\n",
    "import torch"
   ]
  },
  {
   "cell_type": "code",
   "execution_count": 2,
   "id": "9edd8907",
   "metadata": {},
   "outputs": [],
   "source": [
    "feature_extractor = ViTFeatureExtractor.from_pretrained('google/vit-base-patch16-224-in21k')"
   ]
  },
  {
   "cell_type": "code",
   "execution_count": 4,
   "id": "efa01bfb",
   "metadata": {},
   "outputs": [],
   "source": [
    "with open('/home/orelit/Projects -Sathsara/Planigo/Models/VIT_Doody/id2label_section1.json') as json_file:\n",
    "    id2label = json.load(json_file)\n",
    "    \n",
    "with open('/home/orelit/Projects -Sathsara/Planigo/Models/VIT_Doody/label2id_section1.json') as json_file:\n",
    "    label2id = json.load(json_file)"
   ]
  },
  {
   "cell_type": "code",
   "execution_count": 5,
   "id": "19b8b9d5",
   "metadata": {},
   "outputs": [],
   "source": [
    "model_path = '/home/orelit/Projects -Sathsara/Planigo/Models/VIT_Doody/section1'\n",
    "model = ViTForImageClassification.from_pretrained(\n",
    "         model_path,\n",
    "         num_labels=len(label2id),\n",
    "         label2id=label2id,\n",
    "         id2label=id2label)"
   ]
  },
  {
   "cell_type": "code",
   "execution_count": 28,
   "id": "a5764680",
   "metadata": {},
   "outputs": [],
   "source": [
    "def prediction(img_path):\n",
    "   im=Image.open(img_path)\n",
    "   encoding = feature_extractor(images=im, return_tensors=\"pt\")\n",
    "   encoding.keys()\n",
    "   pixel_values = encoding['pixel_values']\n",
    "   outputs = model(pixel_values)\n",
    "   print(\"OUTPUTS : \",outputs)\n",
    "   result = outputs.logits.softmax(1).argmax(1)\n",
    "   print(\"RESULTS : \",result)\n",
    "   tensor_result = outputs.logits.softmax(1)\n",
    "   print(\"TENSOR RESULT : \",tensor_result)\n",
    "   prob = torch.max(tensor_result)\n",
    "   print(\"PROBABILITIES : \",prob)\n",
    "   print('TYPE : ',type(prob))\n",
    "   float_result = prob.type(torch.DoubleTensor)\n",
    "   print('float result : ',float_result)\n",
    "   if float_result>=0.25:\n",
    "        new_result = result.tolist() \n",
    "        print(\"NEW_RESULT : \",new_result)\n",
    "        for i in new_result:\n",
    "            return(id2label[str(i)])\n",
    "   else:\n",
    "        print('Product Not identified')"
   ]
  },
  {
   "cell_type": "code",
   "execution_count": 29,
   "id": "cd28562f",
   "metadata": {},
   "outputs": [
    {
     "name": "stdout",
     "output_type": "stream",
     "text": [
      "OUTPUTS :  ImageClassifierOutput(loss=None, logits=tensor([[ 0.2138,  0.2206,  0.0974, -0.9113,  0.3388,  1.1101, -0.2339, -0.2032,\n",
      "         -0.2971]], grad_fn=<AddmmBackward0>), hidden_states=None, attentions=None)\n",
      "RESULTS :  tensor([5])\n",
      "TENSOR RESULT :  tensor([[0.1149, 0.1157, 0.1023, 0.0373, 0.1302, 0.2816, 0.0734, 0.0757, 0.0689]],\n",
      "       grad_fn=<SoftmaxBackward0>)\n",
      "PROBABILITIES :  tensor(0.2816, grad_fn=<MaxBackward1>)\n",
      "TYPE :  <class 'torch.Tensor'>\n",
      "float result :  tensor(0.2816, dtype=torch.float64, grad_fn=<ToCopyBackward0>)\n",
      "NEW_RESULT :  [5]\n"
     ]
    },
    {
     "data": {
      "text/plain": [
       "'vd_7290110328764'"
      ]
     },
     "execution_count": 29,
     "metadata": {},
     "output_type": "execute_result"
    }
   ],
   "source": [
    "prediction('/home/orelit/Projects -Sathsara/Planigo/data/doody_all_test/7290110328764 (1).jpeg')"
   ]
  },
  {
   "cell_type": "code",
   "execution_count": 30,
   "id": "82f964ed",
   "metadata": {},
   "outputs": [
    {
     "name": "stdout",
     "output_type": "stream",
     "text": [
      "OUTPUTS :  ImageClassifierOutput(loss=None, logits=tensor([[ 0.1972, -0.0099,  0.2036, -0.9114,  0.5029,  0.5196,  0.0682, -0.0211,\n",
      "         -0.1897]], grad_fn=<AddmmBackward0>), hidden_states=None, attentions=None)\n",
      "RESULTS :  tensor([5])\n",
      "TENSOR RESULT :  tensor([[0.1212, 0.0985, 0.1220, 0.0400, 0.1646, 0.1673, 0.1065, 0.0974, 0.0823]],\n",
      "       grad_fn=<SoftmaxBackward0>)\n",
      "PROBABILITIES :  tensor(0.1673, grad_fn=<MaxBackward1>)\n",
      "TYPE :  <class 'torch.Tensor'>\n",
      "float result :  tensor(0.1673, dtype=torch.float64, grad_fn=<ToCopyBackward0>)\n",
      "Product Not identified\n"
     ]
    }
   ],
   "source": [
    "prediction('/home/orelit/Projects -Sathsara/Planigo/data/doody_all_test/7290110328771 (1).jpeg')"
   ]
  },
  {
   "cell_type": "code",
   "execution_count": 31,
   "id": "2750d5d6",
   "metadata": {},
   "outputs": [
    {
     "name": "stdout",
     "output_type": "stream",
     "text": [
      "OUTPUTS :  ImageClassifierOutput(loss=None, logits=tensor([[ 0.0972,  0.3066,  0.1080, -0.7099,  0.4042,  0.7602, -0.1507, -0.1599,\n",
      "         -0.2095]], grad_fn=<AddmmBackward0>), hidden_states=None, attentions=None)\n",
      "RESULTS :  tensor([5])\n",
      "TENSOR RESULT :  tensor([[0.1078, 0.1329, 0.1089, 0.0481, 0.1465, 0.2091, 0.0841, 0.0833, 0.0793]],\n",
      "       grad_fn=<SoftmaxBackward0>)\n",
      "PROBABILITIES :  tensor(0.2091, grad_fn=<MaxBackward1>)\n",
      "TYPE :  <class 'torch.Tensor'>\n",
      "float result :  tensor(0.2091, dtype=torch.float64, grad_fn=<ToCopyBackward0>)\n",
      "Product Not identified\n"
     ]
    }
   ],
   "source": [
    "prediction('/home/orelit/Projects -Sathsara/Planigo/data/doody_all_test/7290110328788 (1).jpeg')"
   ]
  }
 ],
 "metadata": {
  "kernelspec": {
   "display_name": "Python 3 (ipykernel)",
   "language": "python",
   "name": "python3"
  },
  "language_info": {
   "codemirror_mode": {
    "name": "ipython",
    "version": 3
   },
   "file_extension": ".py",
   "mimetype": "text/x-python",
   "name": "python",
   "nbconvert_exporter": "python",
   "pygments_lexer": "ipython3",
   "version": "3.9.7"
  }
 },
 "nbformat": 4,
 "nbformat_minor": 5
}
